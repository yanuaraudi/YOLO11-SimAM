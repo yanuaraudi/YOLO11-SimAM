{
 "cells": [
  {
   "cell_type": "code",
   "execution_count": null,
   "id": "6e5d7d82",
   "metadata": {},
   "outputs": [],
   "source": [
    "from google.colab import drive\n",
    "drive.mount('/content/drive');"
   ]
  },
  {
   "cell_type": "code",
   "execution_count": null,
   "id": "9a98a1ef",
   "metadata": {},
   "outputs": [],
   "source": [
    "!git clone https://github.com/yanuaraudi/YOLO11-SimAM.git"
   ]
  },
  {
   "cell_type": "code",
   "execution_count": null,
   "id": "48aa018a",
   "metadata": {},
   "outputs": [],
   "source": [
    "%cd YOLO11-SimAM\n",
    "!pip install -e ."
   ]
  },
  {
   "cell_type": "code",
   "execution_count": null,
   "id": "167fba8d",
   "metadata": {},
   "outputs": [],
   "source": [
    "!rm -rf /content/mosquito_dataset && mkdir -p /content\n",
    "!cp -r /content/drive/MyDrive/YOLO/mosquito_dataset /content/mosquito_dataset"
   ]
  },
  {
   "cell_type": "code",
   "execution_count": 2,
   "id": "c6b16391",
   "metadata": {},
   "outputs": [
    {
     "name": "stdout",
     "output_type": "stream",
     "text": [
      "WARNING ⚠️ no model scale passed. Assuming scale='n'.\n"
     ]
    },
    {
     "name": "stdout",
     "output_type": "stream",
     "text": [
      "Transferred 65/499 items from pretrained weights\n"
     ]
    }
   ],
   "source": [
    "from ultralytics import YOLO\n",
    "model = YOLO('yolo11-simam.yaml').load('yolo11n.pt')"
   ]
  },
  {
   "cell_type": "code",
   "execution_count": null,
   "id": "38421d86",
   "metadata": {},
   "outputs": [],
   "source": [
    "dataset = '/content/mosquito_dataset/data.yaml'"
   ]
  }
 ],
 "metadata": {
  "kernelspec": {
   "display_name": ".venv",
   "language": "python",
   "name": "python3"
  },
  "language_info": {
   "codemirror_mode": {
    "name": "ipython",
    "version": 3
   },
   "file_extension": ".py",
   "mimetype": "text/x-python",
   "name": "python",
   "nbconvert_exporter": "python",
   "pygments_lexer": "ipython3",
   "version": "3.10.12"
  }
 },
 "nbformat": 4,
 "nbformat_minor": 5
}
